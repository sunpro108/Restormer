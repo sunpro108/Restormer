{
 "cells": [
  {
   "cell_type": "code",
   "execution_count": 1,
   "id": "b5e6dfc0-8874-4559-9c0d-dea0ed5ea55f",
   "metadata": {
    "tags": []
   },
   "outputs": [],
   "source": [
    "import torch\n",
    "import torch.nn.functional as F\n",
    "import torchvision.transforms.functional as TF\n",
    "import os\n",
    "from runpy import run_path\n",
    "from skimage import img_as_ubyte\n",
    "from natsort import natsorted\n",
    "from glob import glob\n",
    "import cv2\n",
    "from tqdm import tqdm\n",
    "import argparse\n",
    "from pdb import set_trace as stx\n",
    "import numpy as np"
   ]
  },
  {
   "cell_type": "code",
   "execution_count": 2,
   "id": "fcc7a41c-8406-464e-919e-a0a7392ad27c",
   "metadata": {
    "tags": []
   },
   "outputs": [],
   "source": [
    "parser = argparse.ArgumentParser(description='Test Restormer on your own images')\n",
    "parser.add_argument('--input_dir', default='./demo/degraded/', type=str, help='Directory of input images or path of single image')\n",
    "parser.add_argument('--result_dir', default='./demo/restored/', type=str, help='Directory for restored results')\n",
    "parser.add_argument('--task', required=True, type=str, help='Task to run', choices=['Motion_Deblurring',\n",
    "                                                                                    'Single_Image_Defocus_Deblurring',\n",
    "                                                                                    'Deraining',\n",
    "                                                                                    'Real_Denoising',\n",
    "                                                                                    'Gaussian_Gray_Denoising',\n",
    "                                                                                    'Gaussian_Color_Denoising'])\n",
    "parser.add_argument('--tile', type=int, default=None, help='Tile size (e.g 720). None means testing on the original resolution image')\n",
    "parser.add_argument('--tile_overlap', type=int, default=32, help='Overlapping of different tiles')\n",
    "\n",
    "list_args = ['--task', 'Single_Image_Defocus_Deblurring', '--input_dir', './demo/degraded/', '--result_dir', './demo/restored/', '--tile', '512']\n",
    "args = parser.parse_args(list_args)"
   ]
  },
  {
   "cell_type": "code",
   "execution_count": 3,
   "id": "e9f5c433-ddab-4149-a860-4c9df8b30665",
   "metadata": {
    "tags": []
   },
   "outputs": [],
   "source": [
    "def load_img(filepath):\n",
    "    return cv2.cvtColor(cv2.imread(filepath), cv2.COLOR_BGR2RGB)\n",
    "\n",
    "def save_img(filepath, img):\n",
    "    cv2.imwrite(filepath,cv2.cvtColor(img, cv2.COLOR_RGB2BGR))\n",
    "\n",
    "def load_gray_img(filepath):\n",
    "    return np.expand_dims(cv2.imread(filepath, cv2.IMREAD_GRAYSCALE), axis=2)\n",
    "\n",
    "def save_gray_img(filepath, img):\n",
    "    cv2.imwrite(filepath, img)\n",
    "\n",
    "def get_weights_and_parameters(task, parameters):\n",
    "    if task == 'Motion_Deblurring':\n",
    "        weights = os.path.join('Motion_Deblurring', 'pretrained_models', 'motion_deblurring.pth')\n",
    "    elif task == 'Single_Image_Defocus_Deblurring':\n",
    "        weights = os.path.join('Defocus_Deblurring', 'pretrained_models', 'single_image_defocus_deblurring.pth')\n",
    "    elif task == 'Deraining':\n",
    "        weights = os.path.join('Deraining', 'pretrained_models', 'deraining.pth')\n",
    "    elif task == 'Real_Denoising':\n",
    "        weights = os.path.join('Denoising', 'pretrained_models', 'real_denoising.pth')\n",
    "        parameters['LayerNorm_type'] =  'BiasFree'\n",
    "    elif task == 'Gaussian_Color_Denoising':\n",
    "        weights = os.path.join('Denoising', 'pretrained_models', 'gaussian_color_denoising_blind.pth')\n",
    "        parameters['LayerNorm_type'] =  'BiasFree'\n",
    "    elif task == 'Gaussian_Gray_Denoising':\n",
    "        weights = os.path.join('Denoising', 'pretrained_models', 'gaussian_gray_denoising_blind.pth')\n",
    "        parameters['inp_channels'] =  1\n",
    "        parameters['out_channels'] =  1\n",
    "        parameters['LayerNorm_type'] =  'BiasFree'\n",
    "    return weights, parameters"
   ]
  },
  {
   "cell_type": "code",
   "execution_count": 4,
   "id": "3eea9e65-7576-44cf-b59e-870cad17c047",
   "metadata": {
    "tags": []
   },
   "outputs": [],
   "source": [
    "task    = args.task\n",
    "inp_dir = args.input_dir\n",
    "out_dir = os.path.join(args.result_dir, task)\n",
    "\n",
    "os.makedirs(out_dir, exist_ok=True)\n",
    "\n",
    "extensions = ['jpg', 'JPG', 'png', 'PNG', 'jpeg', 'JPEG', 'bmp', 'BMP']\n",
    "\n",
    "if any([inp_dir.endswith(ext) for ext in extensions]):\n",
    "    files = [inp_dir]\n",
    "else:\n",
    "    files = []\n",
    "    for ext in extensions:\n",
    "        files.extend(glob(os.path.join(inp_dir, '*.'+ext)))\n",
    "    files = natsorted(files)\n",
    "\n",
    "if len(files) == 0:\n",
    "    raise Exception(f'No files found at {inp_dir}')\n",
    "\n",
    "# Get model weights and parameters\n",
    "parameters = {'inp_channels':3, 'out_channels':3, 'dim':48, 'num_blocks':[4,6,6,8], 'num_refinement_blocks':4, 'heads':[1,2,4,8], 'ffn_expansion_factor':2.66, 'bias':False, 'LayerNorm_type':'WithBias', 'dual_pixel_task':False}\n",
    "weights, parameters = get_weights_and_parameters(task, parameters)\n",
    "\n",
    "load_arch = run_path(os.path.join('basicsr', 'models', 'archs', 'restormer_arch.py'))"
   ]
  },
  {
   "cell_type": "code",
   "execution_count": 6,
   "id": "2b628c14-a6e6-492f-addf-3926aeb6c3f8",
   "metadata": {
    "tags": []
   },
   "outputs": [
    {
     "name": "stdout",
     "output_type": "stream",
     "text": [
      "\n",
      " ==> Running Single_Image_Defocus_Deblurring with weights Defocus_Deblurring/pretrained_models/single_image_defocus_deblurring.pth\n",
      " \n"
     ]
    }
   ],
   "source": [
    "model = load_arch['Restormer'](**parameters)\n",
    "\n",
    "device = torch.device('cuda' if torch.cuda.is_available() else 'cpu')\n",
    "model.to(device)\n",
    "\n",
    "checkpoint = torch.load(weights)\n",
    "model.load_state_dict(checkpoint['params'])\n",
    "model.eval()\n",
    "\n",
    "img_multiple_of = 8\n",
    "\n",
    "print(f\"\\n ==> Running {task} with weights {weights}\\n \")"
   ]
  },
  {
   "cell_type": "code",
   "execution_count": 22,
   "id": "f8ae8f4e-be46-4b34-a261-1d20c95fc61c",
   "metadata": {
    "tags": []
   },
   "outputs": [
    {
     "name": "stderr",
     "output_type": "stream",
     "text": [
      "100%|██████████████████████████████████████████████████████████████████████████████████████████████████████████| 3/3 [00:01<00:00,  2.29it/s]"
     ]
    },
    {
     "name": "stdout",
     "output_type": "stream",
     "text": [
      "\n",
      "Restored images are saved at ./demo/restored/Single_Image_Defocus_Deblurring\n"
     ]
    },
    {
     "name": "stderr",
     "output_type": "stream",
     "text": [
      "\n"
     ]
    }
   ],
   "source": [
    "with torch.no_grad():\n",
    "    for file_ in tqdm(files):\n",
    "        if torch.cuda.is_available():\n",
    "            torch.cuda.ipc_collect()\n",
    "            torch.cuda.empty_cache()\n",
    "\n",
    "        if task == 'Gaussian_Gray_Denoising':\n",
    "            img = load_gray_img(file_)\n",
    "        else:\n",
    "            img = load_img(file_)\n",
    "\n",
    "        input_ = torch.from_numpy(img).float().div(255.).permute(2,0,1).unsqueeze(0).to(device)\n",
    "\n",
    "        # Pad the input if not_multiple_of 8\n",
    "        height,width = input_.shape[2], input_.shape[3]\n",
    "        H,W = ((height+img_multiple_of)//img_multiple_of)*img_multiple_of, ((width+img_multiple_of)//img_multiple_of)*img_multiple_of\n",
    "        padh = H-height if height%img_multiple_of!=0 else 0\n",
    "        padw = W-width if width%img_multiple_of!=0 else 0\n",
    "        input_ = F.pad(input_, (0,padw,0,padh), 'reflect')\n",
    "\n",
    "        if args.tile is None:\n",
    "            ## Testing on the original resolution image\n",
    "            restored = model(input_)\n",
    "        else:\n",
    "            # test the image tile by tile\n",
    "            b, c, h, w = input_.shape\n",
    "            tile = min(args.tile, h, w)\n",
    "            assert tile % 8 == 0, \"tile size should be multiple of 8\"\n",
    "            tile_overlap = args.tile_overlap\n",
    "\n",
    "            stride = tile - tile_overlap\n",
    "            h_idx_list = list(range(0, h-tile, stride)) + [h-tile]\n",
    "            w_idx_list = list(range(0, w-tile, stride)) + [w-tile]\n",
    "            E = torch.zeros(b, c, h, w).type_as(input_)\n",
    "            W = torch.zeros_like(E)\n",
    "\n",
    "            for h_idx in h_idx_list:\n",
    "                for w_idx in w_idx_list:\n",
    "                    in_patch = input_[..., h_idx:h_idx+tile, w_idx:w_idx+tile]\n",
    "                    out_patch = model(in_patch)\n",
    "                    out_patch_mask = torch.ones_like(out_patch)\n",
    "\n",
    "                    E[..., h_idx:(h_idx+tile), w_idx:(w_idx+tile)].add_(out_patch)\n",
    "                    W[..., h_idx:(h_idx+tile), w_idx:(w_idx+tile)].add_(out_patch_mask)\n",
    "            restored = E.div_(W)\n",
    "\n",
    "        restored = torch.clamp(restored, 0, 1)\n",
    "\n",
    "        # Unpad the output\n",
    "        restored = restored[:,:,:height,:width]\n",
    "\n",
    "        restored = restored.permute(0, 2, 3, 1).cpu().detach().numpy()\n",
    "        restored = img_as_ubyte(restored[0])\n",
    "\n",
    "        f = os.path.splitext(os.path.split(file_)[-1])[0]\n",
    "        # stx()\n",
    "        if task == 'Gaussian_Gray_Denoising':\n",
    "            save_gray_img((os.path.join(out_dir, f+'.png')), restored)\n",
    "        else:\n",
    "            save_img((os.path.join(out_dir, f+'.png')), restored)\n",
    "\n",
    "    print(f\"\\nRestored images are saved at {out_dir}\")"
   ]
  }
 ],
 "metadata": {
  "kernelspec": {
   "display_name": "Python 3 (ipykernel)",
   "language": "python",
   "name": "python3"
  },
  "language_info": {
   "codemirror_mode": {
    "name": "ipython",
    "version": 3
   },
   "file_extension": ".py",
   "mimetype": "text/x-python",
   "name": "python",
   "nbconvert_exporter": "python",
   "pygments_lexer": "ipython3",
   "version": "3.10.11"
  }
 },
 "nbformat": 4,
 "nbformat_minor": 5
}
